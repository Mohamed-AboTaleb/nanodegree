{
 "cells": [
  {
   "cell_type": "markdown",
   "metadata": {},
   "source": [
    "# Training Neural Networks\n",
    "\n",
    "The network we built in the previous part isn't so smart, it doesn't know anything about our handwritten digits. Neural networks with non-linear activations work like universal function approximators. There is some function that maps your input to the output. For example, images of handwritten digits to class probabilities. The power of neural networks is that we can train them to approximate this function, and basically any function given enough data and compute time.\n",
    "\n",
    "<img src=\"assets/function_approx.png\" width=500px>\n",
    "\n",
    "At first the network is naive, it doesn't know the function mapping the inputs to the outputs. We train the network by showing it examples of real data, then adjusting the network parameters such that it approximates this function.\n",
    "\n",
    "To find these parameters, we need to know how poorly the network is predicting the real outputs. For this we calculate a **loss function** (also called the cost), a measure of our prediction error. For example, the mean squared loss is often used in regression and binary classification problems\n",
    "\n",
    "$$\n",
    "\\large \\ell = \\frac{1}{2n}\\sum_i^n{\\left(y_i - \\hat{y}_i\\right)^2}\n",
    "$$\n",
    "\n",
    "where $n$ is the number of training examples, $y_i$ are the true labels, and $\\hat{y}_i$ are the predicted labels.\n",
    "\n",
    "By minimizing this loss with respect to the network parameters, we can find configurations where the loss is at a minimum and the network is able to predict the correct labels with high accuracy. We find this minimum using a process called **gradient descent**. The gradient is the slope of the loss function and points in the direction of fastest change. To get to the minimum in the least amount of time, we then want to follow the gradient (downwards). You can think of this like descending a mountain by following the steepest slope to the base.\n",
    "\n",
    "<img src='assets/gradient_descent.png' width=350px>"
   ]
  },
  {
   "cell_type": "markdown",
   "metadata": {},
   "source": [
    "## Backpropagation\n",
    "\n",
    "For single layer networks, gradient descent is straightforward to implement. However, it's more complicated for deeper, multilayer neural networks like the one we've built. Complicated enough that it took about 30 years before researchers figured out how to train multilayer networks.\n",
    "\n",
    "Training multilayer networks is done through **backpropagation** which is really just an application of the chain rule from calculus. It's easiest to understand if we convert a two layer network into a graph representation.\n",
    "\n",
    "<img src='assets/backprop_diagram.png' width=550px>\n",
    "\n",
    "In the forward pass through the network, our data and operations go from bottom to top here. We pass the input $x$ through a linear transformation $L_1$ with weights $W_1$ and biases $b_1$. The output then goes through the sigmoid operation $S$ and another linear transformation $L_2$. Finally we calculate the loss $\\ell$. We use the loss as a measure of how bad the network's predictions are. The goal then is to adjust the weights and biases to minimize the loss.\n",
    "\n",
    "To train the weights with gradient descent, we propagate the gradient of the loss backwards through the network. Each operation has some gradient between the inputs and outputs. As we send the gradients backwards, we multiply the incoming gradient with the gradient for the operation. Mathematically, this is really just calculating the gradient of the loss with respect to the weights using the chain rule.\n",
    "\n",
    "$$\n",
    "\\large \\frac{\\partial \\ell}{\\partial W_1} = \\frac{\\partial L_1}{\\partial W_1} \\frac{\\partial S}{\\partial L_1} \\frac{\\partial L_2}{\\partial S} \\frac{\\partial \\ell}{\\partial L_2}\n",
    "$$\n",
    "\n",
    "**Note:** I'm glossing over a few details here that require some knowledge of vector calculus, but they aren't necessary to understand what's going on.\n",
    "\n",
    "We update our weights using this gradient with some learning rate $\\alpha$. \n",
    "\n",
    "$$\n",
    "\\large W^\\prime_1 = W_1 - \\alpha \\frac{\\partial \\ell}{\\partial W_1}\n",
    "$$\n",
    "\n",
    "The learning rate $\\alpha$ is set such that the weight update steps are small enough that the iterative method settles in a minimum."
   ]
  },
  {
   "cell_type": "markdown",
   "metadata": {},
   "source": [
    "## Losses in PyTorch\n",
    "\n",
    "Let's start by seeing how we calculate the loss with PyTorch. Through the `nn` module, PyTorch provides losses such as the cross-entropy loss (`nn.CrossEntropyLoss`). You'll usually see the loss assigned to `criterion`. As noted in the last part, with a classification problem such as MNIST, we're using the softmax function to predict class probabilities. With a softmax output, you want to use cross-entropy as the loss. To actually calculate the loss, you first define the criterion then pass in the output of your network and the correct labels.\n",
    "\n",
    "Something really important to note here. Looking at [the documentation for `nn.CrossEntropyLoss`](https://pytorch.org/docs/stable/nn.html#torch.nn.CrossEntropyLoss),\n",
    "\n",
    "> This criterion combines `nn.LogSoftmax()` and `nn.NLLLoss()` in one single class.\n",
    ">\n",
    "> The input is expected to contain scores for each class.\n",
    "\n",
    "This means we need to pass in the raw output of our network into the loss, not the output of the softmax function. This raw output is usually called the *logits* or *scores*. We use the logits because softmax gives you probabilities which will often be very close to zero or one but floating-point numbers can't accurately represent values near zero or one ([read more here](https://docs.python.org/3/tutorial/floatingpoint.html)). It's usually best to avoid doing calculations with probabilities, typically we use log-probabilities."
   ]
  },
  {
   "cell_type": "code",
   "execution_count": 7,
   "metadata": {},
   "outputs": [],
   "source": [
    "import torch\n",
    "from torch import nn\n",
    "import torch.nn.functional as F\n",
    "from torchvision import datasets, transforms\n",
    "\n",
    "# Define a transform to normalize the data\n",
    "transform = transforms.Compose([transforms.ToTensor(),\n",
    "                                transforms.Normalize((0.5,), (0.5,)),\n",
    "                              ])\n",
    "# Download and load the training data\n",
    "trainset = datasets.MNIST('~/.pytorch/MNIST_data/', download=True, train=True, transform=transform)\n",
    "trainloader = torch.utils.data.DataLoader(trainset, batch_size=64, shuffle=True)"
   ]
  },
  {
   "cell_type": "markdown",
   "metadata": {},
   "source": [
    "### Note\n",
    "If you haven't seen `nn.Sequential` yet, please finish the end of the Part 2 notebook."
   ]
  },
  {
   "cell_type": "code",
   "execution_count": 5,
   "metadata": {},
   "outputs": [
    {
     "name": "stdout",
     "output_type": "stream",
     "text": [
      "tensor(2.3001, grad_fn=<NllLossBackward>)\n"
     ]
    }
   ],
   "source": [
    "# Build a feed-forward network\n",
    "model = nn.Sequential(nn.Linear(784, 128),\n",
    "                      nn.ReLU(),\n",
    "                      nn.Linear(128, 64),\n",
    "                      nn.ReLU(),\n",
    "                      nn.Linear(64, 10))\n",
    "\n",
    "# Define the loss\n",
    "criterion = nn.CrossEntropyLoss()\n",
    "\n",
    "# Get our data\n",
    "images, labels = next(iter(trainloader))\n",
    "# Flatten images\n",
    "images = images.view(images.shape[0], -1)\n",
    "\n",
    "# Forward pass, get our logits\n",
    "logits = model(images)\n",
    "# Calculate the loss with the logits and the labels\n",
    "loss = criterion(logits, labels)\n",
    "\n",
    "print(loss)"
   ]
  },
  {
   "cell_type": "markdown",
   "metadata": {},
   "source": [
    "In my experience it's more convenient to build the model with a log-softmax output using `nn.LogSoftmax` or `F.log_softmax` ([documentation](https://pytorch.org/docs/stable/nn.html#torch.nn.LogSoftmax)). Then you can get the actual probabilities by taking the exponential `torch.exp(output)`. With a log-softmax output, you want to use the negative log likelihood loss, `nn.NLLLoss` ([documentation](https://pytorch.org/docs/stable/nn.html#torch.nn.NLLLoss)).\n",
    "\n",
    ">**Exercise:** Build a model that returns the log-softmax as the output and calculate the loss using the negative log likelihood loss. Note that for `nn.LogSoftmax` and `F.log_softmax` you'll need to set the `dim` keyword argument appropriately. `dim=0` calculates softmax across the rows, so each column sums to 1, while `dim=1` calculates across the columns so each row sums to 1. Think about what you want the output to be and choose `dim` appropriately."
   ]
  },
  {
   "cell_type": "code",
   "execution_count": 45,
   "metadata": {},
   "outputs": [
    {
     "name": "stdout",
     "output_type": "stream",
     "text": [
      "tensor([[-2.2729, -2.3137, -2.1973, -2.2610, -2.3486, -2.4504, -2.3465, -2.3736,\n",
      "         -2.2992, -2.1911],\n",
      "        [-2.3126, -2.3165, -2.2277, -2.2863, -2.3331, -2.4861, -2.3881, -2.3224,\n",
      "         -2.2516, -2.1401],\n",
      "        [-2.2870, -2.3314, -2.2118, -2.3137, -2.3289, -2.5034, -2.3488, -2.3220,\n",
      "         -2.2552, -2.1607],\n",
      "        [-2.3578, -2.3568, -2.1839, -2.2884, -2.3585, -2.4261, -2.3594, -2.3306,\n",
      "         -2.2250, -2.1726],\n",
      "        [-2.2842, -2.3248, -2.1997, -2.3576, -2.3442, -2.4369, -2.3417, -2.3310,\n",
      "         -2.2234, -2.2083],\n",
      "        [-2.2801, -2.2856, -2.2269, -2.2858, -2.3617, -2.4838, -2.3879, -2.3836,\n",
      "         -2.2355, -2.1389],\n",
      "        [-2.2919, -2.2519, -2.2376, -2.2998, -2.3667, -2.4338, -2.3466, -2.3816,\n",
      "         -2.2637, -2.1788],\n",
      "        [-2.3275, -2.2916, -2.2115, -2.3663, -2.3069, -2.4971, -2.3090, -2.2864,\n",
      "         -2.2867, -2.1759],\n",
      "        [-2.2913, -2.3336, -2.1273, -2.2390, -2.3674, -2.4805, -2.3339, -2.3840,\n",
      "         -2.2969, -2.2156],\n",
      "        [-2.2799, -2.2591, -2.1995, -2.2820, -2.3855, -2.4636, -2.3680, -2.3507,\n",
      "         -2.2636, -2.2055],\n",
      "        [-2.3346, -2.3952, -2.1315, -2.1861, -2.3471, -2.5086, -2.2862, -2.3701,\n",
      "         -2.3349, -2.1892],\n",
      "        [-2.2515, -2.2871, -2.2387, -2.3184, -2.3719, -2.4475, -2.3769, -2.3630,\n",
      "         -2.2331, -2.1699],\n",
      "        [-2.2693, -2.3123, -2.2357, -2.3465, -2.3547, -2.4855, -2.3384, -2.3257,\n",
      "         -2.2571, -2.1379],\n",
      "        [-2.2815, -2.2692, -2.2220, -2.3142, -2.3749, -2.4593, -2.3401, -2.3743,\n",
      "         -2.2534, -2.1691],\n",
      "        [-2.2932, -2.3073, -2.1813, -2.2692, -2.3823, -2.4529, -2.3512, -2.3510,\n",
      "         -2.2850, -2.1843],\n",
      "        [-2.2722, -2.3677, -2.1639, -2.2524, -2.3757, -2.4375, -2.3653, -2.3811,\n",
      "         -2.2765, -2.1728],\n",
      "        [-2.2876, -2.3573, -2.1749, -2.2692, -2.3715, -2.4053, -2.3609, -2.3856,\n",
      "         -2.2424, -2.2015],\n",
      "        [-2.2667, -2.2965, -2.2681, -2.2658, -2.3529, -2.5052, -2.3534, -2.3105,\n",
      "         -2.2698, -2.1705],\n",
      "        [-2.2962, -2.2960, -2.2177, -2.2985, -2.3784, -2.4654, -2.3414, -2.3349,\n",
      "         -2.2719, -2.1573],\n",
      "        [-2.3233, -2.2508, -2.1761, -2.2925, -2.3848, -2.4577, -2.3319, -2.3743,\n",
      "         -2.2854, -2.1840],\n",
      "        [-2.3022, -2.2861, -2.1906, -2.3158, -2.3842, -2.4409, -2.3278, -2.3393,\n",
      "         -2.2724, -2.1932],\n",
      "        [-2.3066, -2.3561, -2.2396, -2.2349, -2.3238, -2.4462, -2.3774, -2.3530,\n",
      "         -2.2402, -2.1779],\n",
      "        [-2.2901, -2.3279, -2.1681, -2.2280, -2.4208, -2.4180, -2.3367, -2.3800,\n",
      "         -2.3030, -2.1891],\n",
      "        [-2.2892, -2.3411, -2.1211, -2.2661, -2.3691, -2.4924, -2.3301, -2.3397,\n",
      "         -2.2855, -2.2333],\n",
      "        [-2.3135, -2.2446, -2.2770, -2.3084, -2.3955, -2.4212, -2.3103, -2.3410,\n",
      "         -2.2343, -2.2017],\n",
      "        [-2.3128, -2.3333, -2.1618, -2.2403, -2.3974, -2.4284, -2.3420, -2.3683,\n",
      "         -2.2919, -2.1846],\n",
      "        [-2.2633, -2.3456, -2.1993, -2.2505, -2.3642, -2.4877, -2.3607, -2.3650,\n",
      "         -2.2640, -2.1664],\n",
      "        [-2.2593, -2.3014, -2.1784, -2.3110, -2.3425, -2.4251, -2.3756, -2.3716,\n",
      "         -2.2596, -2.2271],\n",
      "        [-2.2918, -2.3721, -2.1626, -2.2560, -2.3528, -2.4415, -2.3279, -2.3844,\n",
      "         -2.2860, -2.1859],\n",
      "        [-2.3438, -2.2465, -2.2224, -2.3266, -2.3845, -2.4328, -2.3576, -2.3554,\n",
      "         -2.2307, -2.1592],\n",
      "        [-2.2632, -2.3499, -2.2031, -2.3522, -2.3535, -2.4697, -2.3630, -2.3162,\n",
      "         -2.2253, -2.1670],\n",
      "        [-2.2555, -2.3231, -2.1777, -2.3315, -2.3753, -2.4539, -2.3563, -2.3317,\n",
      "         -2.2575, -2.1955],\n",
      "        [-2.3229, -2.2477, -2.1607, -2.2614, -2.3896, -2.4457, -2.3351, -2.3886,\n",
      "         -2.2874, -2.2211],\n",
      "        [-2.3091, -2.3290, -2.1546, -2.2905, -2.3689, -2.4674, -2.3439, -2.3337,\n",
      "         -2.2766, -2.1877],\n",
      "        [-2.2737, -2.3024, -2.2617, -2.2881, -2.3245, -2.4591, -2.3160, -2.3813,\n",
      "         -2.2584, -2.1852],\n",
      "        [-2.2493, -2.3014, -2.2393, -2.2593, -2.3421, -2.5236, -2.3417, -2.3664,\n",
      "         -2.2846, -2.1596],\n",
      "        [-2.2765, -2.3622, -2.2112, -2.2782, -2.3236, -2.4320, -2.3292, -2.3958,\n",
      "         -2.2559, -2.1887],\n",
      "        [-2.2717, -2.2793, -2.2340, -2.2989, -2.3306, -2.4400, -2.3127, -2.3876,\n",
      "         -2.2871, -2.2052],\n",
      "        [-2.2468, -2.3282, -2.2268, -2.2983, -2.3905, -2.4303, -2.3916, -2.3496,\n",
      "         -2.1920, -2.2045],\n",
      "        [-2.2311, -2.2929, -2.1928, -2.3249, -2.3368, -2.4957, -2.3478, -2.3618,\n",
      "         -2.2772, -2.2005],\n",
      "        [-2.2911, -2.3355, -2.1902, -2.2569, -2.3346, -2.4288, -2.3746, -2.3777,\n",
      "         -2.2826, -2.1833],\n",
      "        [-2.2641, -2.2776, -2.2142, -2.3111, -2.3671, -2.4589, -2.3755, -2.3467,\n",
      "         -2.2301, -2.2100],\n",
      "        [-2.2751, -2.2966, -2.1680, -2.2799, -2.3759, -2.4350, -2.3667, -2.3773,\n",
      "         -2.2784, -2.2041],\n",
      "        [-2.2789, -2.3014, -2.1663, -2.2814, -2.3800, -2.4535, -2.3575, -2.3824,\n",
      "         -2.2613, -2.1981],\n",
      "        [-2.3065, -2.3047, -2.1841, -2.2921, -2.3763, -2.4675, -2.3774, -2.3456,\n",
      "         -2.2569, -2.1540],\n",
      "        [-2.3013, -2.2935, -2.2427, -2.2833, -2.3196, -2.4763, -2.4029, -2.3721,\n",
      "         -2.2293, -2.1444],\n",
      "        [-2.2647, -2.3509, -2.2196, -2.3246, -2.3598, -2.4855, -2.3494, -2.3287,\n",
      "         -2.2128, -2.1679],\n",
      "        [-2.3351, -2.3015, -2.1415, -2.2529, -2.3792, -2.4890, -2.3017, -2.3740,\n",
      "         -2.3105, -2.1848],\n",
      "        [-2.2718, -2.2854, -2.2501, -2.2737, -2.3130, -2.4757, -2.3372, -2.3779,\n",
      "         -2.2825, -2.1859],\n",
      "        [-2.2443, -2.3252, -2.2491, -2.2817, -2.3424, -2.4479, -2.3789, -2.3679,\n",
      "         -2.2411, -2.1770],\n",
      "        [-2.3093, -2.3017, -2.2339, -2.2751, -2.4029, -2.4272, -2.3222, -2.3775,\n",
      "         -2.2271, -2.1780],\n",
      "        [-2.3103, -2.2909, -2.2103, -2.2936, -2.3746, -2.4451, -2.3287, -2.3608,\n",
      "         -2.2671, -2.1726],\n",
      "        [-2.2686, -2.3074, -2.1980, -2.2984, -2.3788, -2.4621, -2.3405, -2.3605,\n",
      "         -2.2985, -2.1490],\n",
      "        [-2.3563, -2.2644, -2.1995, -2.3408, -2.3687, -2.4249, -2.3198, -2.3654,\n",
      "         -2.2589, -2.1587],\n",
      "        [-2.2617, -2.3132, -2.2088, -2.2904, -2.3612, -2.4459, -2.3631, -2.3651,\n",
      "         -2.2160, -2.2278],\n",
      "        [-2.3235, -2.2402, -2.2186, -2.2891, -2.3969, -2.4286, -2.3449, -2.4091,\n",
      "         -2.2818, -2.1329],\n",
      "        [-2.3167, -2.3212, -2.2387, -2.2535, -2.3580, -2.4367, -2.3226, -2.3825,\n",
      "         -2.2381, -2.1843],\n",
      "        [-2.2484, -2.2864, -2.2256, -2.3241, -2.3250, -2.4478, -2.3380, -2.3844,\n",
      "         -2.2525, -2.2177],\n",
      "        [-2.2478, -2.3421, -2.2043, -2.3189, -2.3439, -2.4429, -2.3657, -2.3693,\n",
      "         -2.2292, -2.1925],\n",
      "        [-2.2987, -2.3505, -2.1596, -2.3386, -2.3641, -2.4688, -2.2704, -2.3664,\n",
      "         -2.2939, -2.1562],\n",
      "        [-2.2672, -2.2519, -2.1880, -2.2988, -2.3681, -2.4388, -2.3743, -2.3721,\n",
      "         -2.2552, -2.2392],\n",
      "        [-2.3101, -2.2673, -2.1326, -2.2918, -2.3631, -2.4557, -2.2901, -2.3769,\n",
      "         -2.3783, -2.2000],\n",
      "        [-2.3164, -2.2903, -2.2112, -2.3097, -2.3766, -2.4675, -2.3352, -2.3550,\n",
      "         -2.2679, -2.1337],\n",
      "        [-2.2467, -2.3540, -2.2034, -2.3264, -2.3935, -2.4817, -2.3845, -2.3246,\n",
      "         -2.1931, -2.1651]], grad_fn=<LogSoftmaxBackward>)\n",
      "tensor(2.2836, grad_fn=<NllLossBackward>)\n"
     ]
    }
   ],
   "source": [
    "# TODO: Build a feed-forward network\n",
    "import torch.nn.functional as F\n",
    "model = nn.Sequential(nn.Linear(784,128),\n",
    "                     nn.ReLU(), \n",
    "                     nn.Linear(128,64),\n",
    "                     nn.ReLU(), \n",
    "                     nn.Linear(64,10),\n",
    "                     nn.LogSoftmax(dim=1))\n",
    "\n",
    "# TODO: Define the loss\n",
    "criterion = nn.NLLLoss()\n",
    "\n",
    "### Run this to check your work\n",
    "# Get our data\n",
    "images, labels = next(iter(trainloader))\n",
    "# Flatten images\n",
    "images = images.view(images.shape[0], -1)\n",
    "\n",
    "# Forward pass, get our logits\n",
    "logits = model(images)\n",
    "print(logits)\n",
    "# Calculate the loss with the logits and the labels\n",
    "loss = criterion(logits, labels)\n",
    "\n",
    "print(loss)"
   ]
  },
  {
   "cell_type": "markdown",
   "metadata": {},
   "source": [
    "## Autograd\n",
    "\n",
    "Now that we know how to calculate a loss, how do we use it to perform backpropagation? Torch provides a module, `autograd`, for automatically calculating the gradients of tensors. We can use it to calculate the gradients of all our parameters with respect to the loss. Autograd works by keeping track of operations performed on tensors, then going backwards through those operations, calculating gradients along the way. To make sure PyTorch keeps track of operations on a tensor and calculates the gradients, you need to set `requires_grad = True` on a tensor. You can do this at creation with the `requires_grad` keyword, or at any time with `x.requires_grad_(True)`.\n",
    "\n",
    "You can turn off gradients for a block of code with the `torch.no_grad()` content:\n",
    "```python\n",
    "x = torch.zeros(1, requires_grad=True)\n",
    ">>> with torch.no_grad():\n",
    "...     y = x * 2\n",
    ">>> y.requires_grad\n",
    "False\n",
    "```\n",
    "\n",
    "Also, you can turn on or off gradients altogether with `torch.set_grad_enabled(True|False)`.\n",
    "\n",
    "The gradients are computed with respect to some variable `z` with `z.backward()`. This does a backward pass through the operations that created `z`."
   ]
  },
  {
   "cell_type": "code",
   "execution_count": null,
   "metadata": {},
   "outputs": [],
   "source": [
    "x = torch.randn(2,2, requires_grad=True)\n",
    "print(x)"
   ]
  },
  {
   "cell_type": "code",
   "execution_count": null,
   "metadata": {},
   "outputs": [],
   "source": [
    "y = x**2\n",
    "print(y)"
   ]
  },
  {
   "cell_type": "markdown",
   "metadata": {},
   "source": [
    "Below we can see the operation that created `y`, a power operation `PowBackward0`."
   ]
  },
  {
   "cell_type": "code",
   "execution_count": null,
   "metadata": {},
   "outputs": [],
   "source": [
    "## grad_fn shows the function that generated this variable\n",
    "print(y.grad_fn)"
   ]
  },
  {
   "cell_type": "markdown",
   "metadata": {},
   "source": [
    "The autograd module keeps track of these operations and knows how to calculate the gradient for each one. In this way, it's able to calculate the gradients for a chain of operations, with respect to any one tensor. Let's reduce the tensor `y` to a scalar value, the mean."
   ]
  },
  {
   "cell_type": "code",
   "execution_count": null,
   "metadata": {},
   "outputs": [],
   "source": [
    "z = y.mean()\n",
    "print(z)"
   ]
  },
  {
   "cell_type": "markdown",
   "metadata": {},
   "source": [
    "You can check the gradients for `x` and `y` but they are empty currently."
   ]
  },
  {
   "cell_type": "code",
   "execution_count": null,
   "metadata": {},
   "outputs": [],
   "source": [
    "print(x.grad)"
   ]
  },
  {
   "cell_type": "markdown",
   "metadata": {},
   "source": [
    "To calculate the gradients, you need to run the `.backward` method on a Variable, `z` for example. This will calculate the gradient for `z` with respect to `x`\n",
    "\n",
    "$$\n",
    "\\frac{\\partial z}{\\partial x} = \\frac{\\partial}{\\partial x}\\left[\\frac{1}{n}\\sum_i^n x_i^2\\right] = \\frac{x}{2}\n",
    "$$"
   ]
  },
  {
   "cell_type": "code",
   "execution_count": null,
   "metadata": {},
   "outputs": [],
   "source": [
    "z.backward()\n",
    "print(x.grad)\n",
    "print(x/2)"
   ]
  },
  {
   "cell_type": "markdown",
   "metadata": {},
   "source": [
    "These gradients calculations are particularly useful for neural networks. For training we need the gradients of the cost with respect to the weights. With PyTorch, we run data forward through the network to calculate the loss, then, go backwards to calculate the gradients with respect to the loss. Once we have the gradients we can make a gradient descent step. "
   ]
  },
  {
   "cell_type": "markdown",
   "metadata": {},
   "source": [
    "## Loss and Autograd together\n",
    "\n",
    "When we create a network with PyTorch, all of the parameters are initialized with `requires_grad = True`. This means that when we calculate the loss and call `loss.backward()`, the gradients for the parameters are calculated. These gradients are used to update the weights with gradient descent. Below you can see an example of calculating the gradients using a backwards pass."
   ]
  },
  {
   "cell_type": "code",
   "execution_count": 37,
   "metadata": {},
   "outputs": [
    {
     "name": "stdout",
     "output_type": "stream",
     "text": [
      "tensor([[-2.2543, -2.2912, -2.4425, -2.2391, -2.3033, -2.3818, -2.2014, -2.3409,\n",
      "         -2.4382, -2.1725],\n",
      "        [-2.2398, -2.3135, -2.4163, -2.1992, -2.3141, -2.4113, -2.1972, -2.3177,\n",
      "         -2.4682, -2.1933],\n",
      "        [-2.2535, -2.2912, -2.4055, -2.2067, -2.3369, -2.3079, -2.2123, -2.3006,\n",
      "         -2.4207, -2.3131],\n",
      "        [-2.2738, -2.3048, -2.3551, -2.2489, -2.3068, -2.3956, -2.2101, -2.3307,\n",
      "         -2.4413, -2.1871],\n",
      "        [-2.3082, -2.3344, -2.4254, -2.2688, -2.2453, -2.3848, -2.1823, -2.3578,\n",
      "         -2.4358, -2.1297],\n",
      "        [-2.2899, -2.3018, -2.4841, -2.2562, -2.3197, -2.3666, -2.2178, -2.3274,\n",
      "         -2.3640, -2.1374],\n",
      "        [-2.2611, -2.3149, -2.3447, -2.2606, -2.3114, -2.3724, -2.2226, -2.3088,\n",
      "         -2.4593, -2.1960],\n",
      "        [-2.3013, -2.2853, -2.4741, -2.2484, -2.2845, -2.3430, -2.1896, -2.3855,\n",
      "         -2.3932, -2.1619],\n",
      "        [-2.2902, -2.2569, -2.3926, -2.2704, -2.2520, -2.3201, -2.2002, -2.4031,\n",
      "         -2.4053, -2.2584],\n",
      "        [-2.2425, -2.2809, -2.4466, -2.2440, -2.3596, -2.2947, -2.2771, -2.3224,\n",
      "         -2.3200, -2.2552],\n",
      "        [-2.2753, -2.2826, -2.4545, -2.2462, -2.2617, -2.3476, -2.2485, -2.3202,\n",
      "         -2.4118, -2.2047],\n",
      "        [-2.2538, -2.2941, -2.4247, -2.2469, -2.2966, -2.3566, -2.2536, -2.3541,\n",
      "         -2.3918, -2.1794],\n",
      "        [-2.2554, -2.2880, -2.4944, -2.2137, -2.3794, -2.3501, -2.2218, -2.3419,\n",
      "         -2.4325, -2.1077],\n",
      "        [-2.2913, -2.3035, -2.4983, -2.2864, -2.2599, -2.3448, -2.2413, -2.2766,\n",
      "         -2.3741, -2.1819],\n",
      "        [-2.2831, -2.2928, -2.4140, -2.2584, -2.3171, -2.3718, -2.2529, -2.3164,\n",
      "         -2.3811, -2.1626],\n",
      "        [-2.2198, -2.3348, -2.4229, -2.2726, -2.2886, -2.3583, -2.2181, -2.3323,\n",
      "         -2.4332, -2.1787],\n",
      "        [-2.2613, -2.2857, -2.4104, -2.2017, -2.2927, -2.3594, -2.2237, -2.4332,\n",
      "         -2.3500, -2.2359],\n",
      "        [-2.2212, -2.3254, -2.3984, -2.2159, -2.3794, -2.3396, -2.2208, -2.3298,\n",
      "         -2.4186, -2.2073],\n",
      "        [-2.2804, -2.3404, -2.4487, -2.2099, -2.2803, -2.3325, -2.2537, -2.3603,\n",
      "         -2.3544, -2.1921],\n",
      "        [-2.2869, -2.2606, -2.4124, -2.2467, -2.3153, -2.3960, -2.2220, -2.3450,\n",
      "         -2.4243, -2.1526],\n",
      "        [-2.2661, -2.3366, -2.4213, -2.2277, -2.2565, -2.3721, -2.2401, -2.3275,\n",
      "         -2.4035, -2.2013],\n",
      "        [-2.3204, -2.3345, -2.4891, -2.3285, -2.2224, -2.3091, -2.2384, -2.3396,\n",
      "         -2.3437, -2.1386],\n",
      "        [-2.3015, -2.2618, -2.3738, -2.2808, -2.2079, -2.3932, -2.2439, -2.3459,\n",
      "         -2.4515, -2.1969],\n",
      "        [-2.2975, -2.3164, -2.3909, -2.2947, -2.2521, -2.3984, -2.1892, -2.3304,\n",
      "         -2.4085, -2.1780],\n",
      "        [-2.2667, -2.2934, -2.4370, -2.2182, -2.3285, -2.3084, -2.2538, -2.3057,\n",
      "         -2.4473, -2.1972],\n",
      "        [-2.3224, -2.3082, -2.4885, -2.2454, -2.2667, -2.3157, -2.2202, -2.3588,\n",
      "         -2.3635, -2.1713],\n",
      "        [-2.2478, -2.3351, -2.3526, -2.2360, -2.3590, -2.3855, -2.2834, -2.2618,\n",
      "         -2.4055, -2.1831],\n",
      "        [-2.3194, -2.2819, -2.4153, -2.3214, -2.2765, -2.3515, -2.2000, -2.3096,\n",
      "         -2.4153, -2.1646],\n",
      "        [-2.1693, -2.3933, -2.3769, -2.2238, -2.3319, -2.2910, -2.2859, -2.3438,\n",
      "         -2.4830, -2.1717],\n",
      "        [-2.2833, -2.3080, -2.4517, -2.2022, -2.3514, -2.3216, -2.2158, -2.3846,\n",
      "         -2.3908, -2.1560],\n",
      "        [-2.2520, -2.2781, -2.4302, -2.3455, -2.2940, -2.3972, -2.1848, -2.3274,\n",
      "         -2.4139, -2.1441],\n",
      "        [-2.2295, -2.2957, -2.4324, -2.2149, -2.3697, -2.3594, -2.2138, -2.3269,\n",
      "         -2.3901, -2.2233],\n",
      "        [-2.2594, -2.3329, -2.3628, -2.2484, -2.3052, -2.3391, -2.2314, -2.3387,\n",
      "         -2.4304, -2.1995],\n",
      "        [-2.2889, -2.2966, -2.4127, -2.2232, -2.3147, -2.3730, -2.2298, -2.3326,\n",
      "         -2.3819, -2.1961],\n",
      "        [-2.2760, -2.2685, -2.3991, -2.2827, -2.2720, -2.4109, -2.1814, -2.3637,\n",
      "         -2.4246, -2.1829],\n",
      "        [-2.2560, -2.3555, -2.4136, -2.2876, -2.2919, -2.3206, -2.2321, -2.2528,\n",
      "         -2.4430, -2.2001],\n",
      "        [-2.2435, -2.3182, -2.4141, -2.2710, -2.2842, -2.3339, -2.2738, -2.3326,\n",
      "         -2.3730, -2.1993],\n",
      "        [-2.2363, -2.2954, -2.4349, -2.2349, -2.3252, -2.3647, -2.1960, -2.3254,\n",
      "         -2.4200, -2.2241],\n",
      "        [-2.2871, -2.3047, -2.4747, -2.2523, -2.3327, -2.3717, -2.2430, -2.3076,\n",
      "         -2.3286, -2.1551],\n",
      "        [-2.2740, -2.3334, -2.4111, -2.2469, -2.2926, -2.3092, -2.2481, -2.3048,\n",
      "         -2.3989, -2.2244],\n",
      "        [-2.2461, -2.2968, -2.4517, -2.2196, -2.3180, -2.3674, -2.1875, -2.3187,\n",
      "         -2.4574, -2.2039],\n",
      "        [-2.2184, -2.3492, -2.4525, -2.1971, -2.3800, -2.3232, -2.2186, -2.3312,\n",
      "         -2.4023, -2.1928],\n",
      "        [-2.2838, -2.2785, -2.4574, -2.1791, -2.3281, -2.3831, -2.2173, -2.3567,\n",
      "         -2.3896, -2.1910],\n",
      "        [-2.2608, -2.3093, -2.3915, -2.2730, -2.2702, -2.3824, -2.2142, -2.3268,\n",
      "         -2.4118, -2.2092],\n",
      "        [-2.2839, -2.2709, -2.4326, -2.1791, -2.3323, -2.3979, -2.2051, -2.3720,\n",
      "         -2.3895, -2.2005],\n",
      "        [-2.2519, -2.3130, -2.4231, -2.2781, -2.2925, -2.3874, -2.1735, -2.3560,\n",
      "         -2.4268, -2.1635],\n",
      "        [-2.2326, -2.2670, -2.4207, -2.2820, -2.2651, -2.3801, -2.2119, -2.3645,\n",
      "         -2.4143, -2.2172],\n",
      "        [-2.2883, -2.3213, -2.4939, -2.2626, -2.3017, -2.3285, -2.2318, -2.3222,\n",
      "         -2.3782, -2.1361],\n",
      "        [-2.2786, -2.3060, -2.4095, -2.1985, -2.3208, -2.3401, -2.3086, -2.2506,\n",
      "         -2.4484, -2.1945],\n",
      "        [-2.2806, -2.3049, -2.4143, -2.2608, -2.2842, -2.2944, -2.2571, -2.2959,\n",
      "         -2.3797, -2.2659],\n",
      "        [-2.2553, -2.2817, -2.4317, -2.2365, -2.2612, -2.3527, -2.2032, -2.3408,\n",
      "         -2.4412, -2.2515],\n",
      "        [-2.2182, -2.2631, -2.4384, -2.2369, -2.3310, -2.3936, -2.1713, -2.3570,\n",
      "         -2.4164, -2.2385],\n",
      "        [-2.2642, -2.3238, -2.3952, -2.2071, -2.3542, -2.3564, -2.2546, -2.3272,\n",
      "         -2.4138, -2.1600],\n",
      "        [-2.2747, -2.3357, -2.4534, -2.2419, -2.2726, -2.3206, -2.2596, -2.3358,\n",
      "         -2.4008, -2.1616],\n",
      "        [-2.2519, -2.2876, -2.4237, -2.2784, -2.2536, -2.3564, -2.2328, -2.3251,\n",
      "         -2.4745, -2.1780],\n",
      "        [-2.2319, -2.2782, -2.4223, -2.2168, -2.3393, -2.3686, -2.2006, -2.3356,\n",
      "         -2.4365, -2.2296],\n",
      "        [-2.2626, -2.3076, -2.4277, -2.2169, -2.3444, -2.3862, -2.2395, -2.3298,\n",
      "         -2.3776, -2.1650],\n",
      "        [-2.2611, -2.2953, -2.4796, -2.2372, -2.3164, -2.3779, -2.2177, -2.3740,\n",
      "         -2.3583, -2.1491],\n",
      "        [-2.2883, -2.3535, -2.3603, -2.2708, -2.2620, -2.4575, -2.1797, -2.2799,\n",
      "         -2.4367, -2.1778],\n",
      "        [-2.2566, -2.3125, -2.4422, -2.2595, -2.3151, -2.3878, -2.2473, -2.3203,\n",
      "         -2.3702, -2.1462],\n",
      "        [-2.2392, -2.2975, -2.4254, -2.2156, -2.3425, -2.3507, -2.1859, -2.3232,\n",
      "         -2.4311, -2.2467],\n",
      "        [-2.2558, -2.2619, -2.4077, -2.2397, -2.3024, -2.3496, -2.2408, -2.3673,\n",
      "         -2.3963, -2.2260],\n",
      "        [-2.2526, -2.3395, -2.4526, -2.2242, -2.2680, -2.3722, -2.2212, -2.3022,\n",
      "         -2.4353, -2.1947],\n",
      "        [-2.2801, -2.3242, -2.4167, -2.2221, -2.2550, -2.3491, -2.1891, -2.3453,\n",
      "         -2.4443, -2.2319]], grad_fn=<LogSoftmaxBackward>)\n"
     ]
    }
   ],
   "source": [
    "# Build a feed-forward network\n",
    "model = nn.Sequential(nn.Linear(784, 128),\n",
    "                      nn.ReLU(),\n",
    "                      nn.Linear(128, 64),\n",
    "                      nn.ReLU(),\n",
    "                      nn.Linear(64, 10),\n",
    "                      nn.LogSoftmax(dim=1))\n",
    "\n",
    "criterion = nn.NLLLoss()\n",
    "\n",
    "images, labels = next(iter(trainloader))\n",
    "images = images.view(images.shape[0], -1)\n",
    "\n",
    "logits = model(images)\n",
    "print(logits)\n",
    "loss = criterion(logits, labels)"
   ]
  },
  {
   "cell_type": "code",
   "execution_count": 16,
   "metadata": {},
   "outputs": [
    {
     "name": "stdout",
     "output_type": "stream",
     "text": [
      "Before backward pass: \n",
      " None\n",
      "After backward pass: \n",
      " tensor([[ 0.0004,  0.0004,  0.0004,  ...,  0.0004,  0.0004,  0.0004],\n",
      "        [-0.0007, -0.0007, -0.0007,  ..., -0.0007, -0.0007, -0.0007],\n",
      "        [-0.0019, -0.0019, -0.0019,  ..., -0.0019, -0.0019, -0.0019],\n",
      "        ...,\n",
      "        [-0.0002, -0.0002, -0.0002,  ..., -0.0002, -0.0002, -0.0002],\n",
      "        [-0.0009, -0.0009, -0.0009,  ..., -0.0009, -0.0009, -0.0009],\n",
      "        [-0.0007, -0.0007, -0.0007,  ..., -0.0007, -0.0007, -0.0007]])\n"
     ]
    }
   ],
   "source": [
    "print('Before backward pass: \\n', model[0].weight.grad)\n",
    "\n",
    "loss.backward()\n",
    "\n",
    "print('After backward pass: \\n', model[0].weight.grad)"
   ]
  },
  {
   "cell_type": "markdown",
   "metadata": {},
   "source": [
    "## Training the network!\n",
    "\n",
    "There's one last piece we need to start training, an optimizer that we'll use to update the weights with the gradients. We get these from PyTorch's [`optim` package](https://pytorch.org/docs/stable/optim.html). For example we can use stochastic gradient descent with `optim.SGD`. You can see how to define an optimizer below."
   ]
  },
  {
   "cell_type": "code",
   "execution_count": 17,
   "metadata": {},
   "outputs": [],
   "source": [
    "from torch import optim\n",
    "\n",
    "# Optimizers require the parameters to optimize and a learning rate\n",
    "optimizer = optim.SGD(model.parameters(), lr=0.01)"
   ]
  },
  {
   "cell_type": "markdown",
   "metadata": {},
   "source": [
    "Now we know how to use all the individual parts so it's time to see how they work together. Let's consider just one learning step before looping through all the data. The general process with PyTorch:\n",
    "\n",
    "* Make a forward pass through the network \n",
    "* Use the network output to calculate the loss\n",
    "* Perform a backward pass through the network with `loss.backward()` to calculate the gradients\n",
    "* Take a step with the optimizer to update the weights\n",
    "\n",
    "Below I'll go through one training step and print out the weights and gradients so you can see how it changes. Note that I have a line of code `optimizer.zero_grad()`. When you do multiple backwards passes with the same parameters, the gradients are accumulated. This means that you need to zero the gradients on each training pass or you'll retain gradients from previous training batches."
   ]
  },
  {
   "cell_type": "code",
   "execution_count": 18,
   "metadata": {},
   "outputs": [
    {
     "name": "stdout",
     "output_type": "stream",
     "text": [
      "Initial weights -  Parameter containing:\n",
      "tensor([[ 0.0235, -0.0215, -0.0257,  ...,  0.0308, -0.0197, -0.0137],\n",
      "        [ 0.0027,  0.0298, -0.0025,  ..., -0.0189, -0.0351, -0.0197],\n",
      "        [ 0.0030,  0.0281,  0.0162,  ...,  0.0117, -0.0272,  0.0059],\n",
      "        ...,\n",
      "        [ 0.0105, -0.0177, -0.0103,  ...,  0.0240,  0.0279, -0.0096],\n",
      "        [-0.0077, -0.0150, -0.0216,  ..., -0.0340,  0.0336,  0.0245],\n",
      "        [-0.0048, -0.0036,  0.0212,  ...,  0.0112, -0.0008, -0.0252]],\n",
      "       requires_grad=True)\n",
      "Gradient - tensor([[0.0011, 0.0011, 0.0011,  ..., 0.0011, 0.0011, 0.0011],\n",
      "        [0.0001, 0.0001, 0.0001,  ..., 0.0001, 0.0001, 0.0001],\n",
      "        [0.0001, 0.0001, 0.0001,  ..., 0.0001, 0.0001, 0.0001],\n",
      "        ...,\n",
      "        [0.0002, 0.0002, 0.0002,  ..., 0.0002, 0.0002, 0.0002],\n",
      "        [0.0022, 0.0022, 0.0022,  ..., 0.0022, 0.0022, 0.0022],\n",
      "        [0.0002, 0.0002, 0.0002,  ..., 0.0002, 0.0002, 0.0002]])\n"
     ]
    }
   ],
   "source": [
    "print('Initial weights - ', model[0].weight)\n",
    "\n",
    "images, labels = next(iter(trainloader))\n",
    "images.resize_(64, 784)\n",
    "\n",
    "# Clear the gradients, do this because gradients are accumulated\n",
    "optimizer.zero_grad()\n",
    "\n",
    "# Forward pass, then backward pass, then update weights\n",
    "output = model(images)\n",
    "loss = criterion(output, labels)\n",
    "loss.backward()\n",
    "print('Gradient -', model[0].weight.grad)"
   ]
  },
  {
   "cell_type": "code",
   "execution_count": 19,
   "metadata": {},
   "outputs": [
    {
     "name": "stdout",
     "output_type": "stream",
     "text": [
      "Updated weights -  Parameter containing:\n",
      "tensor([[ 0.0235, -0.0215, -0.0257,  ...,  0.0307, -0.0197, -0.0137],\n",
      "        [ 0.0027,  0.0298, -0.0025,  ..., -0.0189, -0.0351, -0.0197],\n",
      "        [ 0.0030,  0.0281,  0.0162,  ...,  0.0117, -0.0272,  0.0059],\n",
      "        ...,\n",
      "        [ 0.0105, -0.0177, -0.0103,  ...,  0.0240,  0.0278, -0.0096],\n",
      "        [-0.0077, -0.0150, -0.0217,  ..., -0.0341,  0.0335,  0.0245],\n",
      "        [-0.0048, -0.0037,  0.0212,  ...,  0.0112, -0.0008, -0.0252]],\n",
      "       requires_grad=True)\n"
     ]
    }
   ],
   "source": [
    "# Take an update step and few the new weights\n",
    "optimizer.step()\n",
    "print('Updated weights - ', model[0].weight)"
   ]
  },
  {
   "cell_type": "markdown",
   "metadata": {},
   "source": [
    "### Training for real\n",
    "\n",
    "Now we'll put this algorithm into a loop so we can go through all the images. Some nomenclature, one pass through the entire dataset is called an *epoch*. So here we're going to loop through `trainloader` to get our training batches. For each batch, we'll doing a training pass where we calculate the loss, do a backwards pass, and update the weights.\n",
    "\n",
    ">**Exercise:** Implement the training pass for our network. If you implemented it correctly, you should see the training loss drop with each epoch."
   ]
  },
  {
   "cell_type": "code",
   "execution_count": 23,
   "metadata": {},
   "outputs": [
    {
     "name": "stdout",
     "output_type": "stream",
     "text": [
      "Training loss: 1.8817644984737387\n",
      "Training loss: 0.8613892836547864\n",
      "Training loss: 0.5337665372375232\n",
      "Training loss: 0.43709542236920357\n",
      "Training loss: 0.39187601228544455\n",
      "Training loss: 0.36462609473067814\n",
      "Training loss: 0.34567627465642337\n"
     ]
    }
   ],
   "source": [
    "## Your solution here\n",
    "\n",
    "model = nn.Sequential(nn.Linear(784, 128),\n",
    "                      nn.ReLU(),\n",
    "                      nn.Linear(128, 64),\n",
    "                      nn.ReLU(),\n",
    "                      nn.Linear(64, 10),\n",
    "                      nn.LogSoftmax(dim=1))\n",
    "\n",
    "criterion = nn.NLLLoss()\n",
    "optimizer = optim.SGD(model.parameters(), lr=0.003)\n",
    "\n",
    "epochs = 7\n",
    "for e in range(epochs):\n",
    "    running_loss = 0\n",
    "    for images, labels in trainloader:\n",
    "        # Flatten MNIST images into a 784 long vector\n",
    "        images = images.view(images.shape[0], -1)\n",
    "        \n",
    "        # TODO: Training pass\n",
    "        optimizer.zero_grad()\n",
    "        predictions = model(images)\n",
    "        loss = criterion(predictions,labels)\n",
    "        loss.backward()\n",
    "        optimizer.step()\n",
    "        running_loss += loss.item()\n",
    "    else:\n",
    "        print(f\"Training loss: {running_loss/len(trainloader)}\")"
   ]
  },
  {
   "cell_type": "markdown",
   "metadata": {},
   "source": [
    "With the network trained, we can check out it's predictions."
   ]
  },
  {
   "cell_type": "code",
   "execution_count": 36,
   "metadata": {},
   "outputs": [
    {
     "name": "stdout",
     "output_type": "stream",
     "text": [
      "tensor([[-8.2850, -8.5617, -3.4523, -5.5093, -6.5858, -4.5843, -7.5936, -7.9594,\n",
      "         -0.0818, -3.5088]])\n"
     ]
    },
    {
     "data": {
      "image/png": "[encoded data removed]",
      "text/plain": [
       "<Figure size 432x648 with 2 Axes>"
      ]
     },
     "metadata": {
      "needs_background": "light"
     },
     "output_type": "display_data"
    }
   ],
   "source": [
    "%matplotlib inline\n",
    "import helper\n",
    "\n",
    "images, labels = next(iter(trainloader))\n",
    "\n",
    "img = images[8].view(1, 784)\n",
    "# Turn off gradients to speed up this part\n",
    "with torch.no_grad():\n",
    "    logps = model(img)\n",
    "\n",
    "print(logps)    \n",
    "# Output of the network are log-probabilities, need to take exponential for probabilities\n",
    "ps = torch.exp(logps)\n",
    "helper.view_classify(img.view(1, 28, 28), ps)"
   ]
  },
  {
   "cell_type": "markdown",
   "metadata": {},
   "source": [
    "Now our network is brilliant. It can accurately predict the digits in our images. Next up you'll write the code for training a neural network on a more complex dataset."
   ]
  }
 ],
 "metadata": {
  "kernelspec": {
   "display_name": "Python 3",
   "language": "python",
   "name": "python3"
  },
  "language_info": {
   "codemirror_mode": {
    "name": "ipython",
    "version": 3
   },
   "file_extension": ".py",
   "mimetype": "text/x-python",
   "name": "python",
   "nbconvert_exporter": "python",
   "pygments_lexer": "ipython3",
   "version": "3.7.4"
  }
 },
 "nbformat": 4,
 "nbformat_minor": 2
}
