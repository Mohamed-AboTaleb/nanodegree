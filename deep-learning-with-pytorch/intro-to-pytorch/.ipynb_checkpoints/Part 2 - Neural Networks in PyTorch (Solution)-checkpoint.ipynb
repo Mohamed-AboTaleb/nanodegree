{
 "cells": [
  {
   "cell_type": "markdown",
   "metadata": {},
   "source": [
    "# Neural networks with PyTorch\n",
    "\n",
    "Deep learning networks tend to be massive with dozens or hundreds of layers, that's where the term \"deep\" comes from. You can build one of these deep networks using only weight matrices as we did in the previous notebook, but in general it's very cumbersome and difficult to implement. PyTorch has a nice module `nn` that provides a nice way to efficiently build large neural networks."
   ]
  },
  {
   "cell_type": "code",
   "execution_count": 15,
   "metadata": {},
   "outputs": [],
   "source": [
    "# Import necessary packages\n",
    "\n",
    "%matplotlib inline\n",
    "%config InlineBackend.figure_format = 'retina'\n",
    "\n",
    "import numpy as np\n",
    "import torch\n",
    "\n",
    "import helper\n",
    "\n",
    "import matplotlib.pyplot as plt"
   ]
  },
  {
   "cell_type": "markdown",
   "metadata": {},
   "source": [
    "\n",
    "Now we're going to build a larger network that can solve a (formerly) difficult problem, identifying text in an image. Here we'll use the MNIST dataset which consists of greyscale handwritten digits. Each image is 28x28 pixels, you can see a sample below\n",
    "\n",
    "<img src='assets/mnist.png'>\n",
    "\n",
    "Our goal is to build a neural network that can take one of these images and predict the digit in the image.\n",
    "\n",
    "First up, we need to get our dataset. This is provided through the `torchvision` package. The code below will download the MNIST dataset, then create training and test datasets for us. Don't worry too much about the details here, you'll learn more about this later."
   ]
  },
  {
   "cell_type": "code",
   "execution_count": 16,
   "metadata": {},
   "outputs": [],
   "source": [
    "### Run this cell\n",
    "\n",
    "from torchvision import datasets, transforms\n",
    "\n",
    "# Define a transform to normalize the data\n",
    "transform = transforms.Compose([transforms.ToTensor(),\n",
    "                              transforms.Normalize((0.5,), (0.5,)),\n",
    "                              ])\n",
    "# Download and load the training data\n",
    "trainset = datasets.MNIST('~/.pytorch/MNIST_data/', download=True, train=True, transform=transform)\n",
    "trainloader = torch.utils.data.DataLoader(trainset, batch_size=64, shuffle=True)"
   ]
  },
  {
   "cell_type": "markdown",
   "metadata": {},
   "source": [
    "We have the training data loaded into `trainloader` and we make that an iterator with `iter(trainloader)`. Later, we'll use this to loop through the dataset for training, like\n",
    "\n",
    "```python\n",
    "for image, label in trainloader:\n",
    "    ## do things with images and labels\n",
    "```\n",
    "\n",
    "You'll notice I created the `trainloader` with a batch size of 64, and `shuffle=True`. The batch size is the number of images we get in one iteration from the data loader and pass through our network, often called a *batch*. And `shuffle=True` tells it to shuffle the dataset every time we start going through the data loader again. But here I'm just grabbing the first batch so we can check out the data. We can see below that `images` is just a tensor with size `(64, 1, 28, 28)`. So, 64 images per batch, 1 color channel, and 28x28 images."
   ]
  },
  {
   "cell_type": "code",
   "execution_count": 17,
   "metadata": {},
   "outputs": [
    {
     "name": "stdout",
     "output_type": "stream",
     "text": [
      "<class 'torch.Tensor'>\n",
      "torch.Size([64, 1, 28, 28])\n",
      "torch.Size([64])\n"
     ]
    }
   ],
   "source": [
    "dataiter = iter(trainloader)\n",
    "images, labels = dataiter.next()\n",
    "print(type(images))\n",
    "print(images.shape)\n",
    "print(labels.shape)"
   ]
  },
  {
   "cell_type": "markdown",
   "metadata": {},
   "source": [
    "This is what one of the images looks like. "
   ]
  },
  {
   "cell_type": "code",
   "execution_count": 18,
   "metadata": {},
   "outputs": [
    {
     "data": {
      "image/png": "[encoded data removed]",
      "text/plain": [
       "<Figure size 432x288 with 1 Axes>"
      ]
     },
     "metadata": {
      "image/png": {
       "height": 248,
       "width": 251
      },
      "needs_background": "light"
     },
     "output_type": "display_data"
    }
   ],
   "source": [
    "plt.imshow(images[1].numpy().squeeze(), cmap='Greys_r');"
   ]
  },
  {
   "cell_type": "markdown",
   "metadata": {},
   "source": [
    "First, let's try to build a simple network for this dataset using weight matrices and matrix multiplications. Then, we'll see how to do it using PyTorch's `nn` module which provides a much more convenient and powerful method for defining network architectures.\n",
    "\n",
    "The networks you've seen so far are called *fully-connected* or *dense* networks. Each unit in one layer is connected to each unit in the next layer. In fully-connected networks, the input to each layer must be a one-dimensional vector (which can be stacked into a 2D tensor as a batch of multiple examples). However, our images are 28x28 2D tensors, so we need to convert them into 1D vectors. Thinking about sizes, we need to convert the batch of images with shape `(64, 1, 28, 28)` to a have a shape of `(64, 784)`, 784 is 28 times 28. This is typically called *flattening*, we flattened the 2D images into 1D vectors.\n",
    "\n",
    "Previously you built a network with one output unit. Here we need 10 output units, one for each digit. We want our network to predict the digit shown in an image, so what we'll do is calculate probabilities that the image is of any one digit or class. This ends up being a discrete probability distribution over the classes (digits) that tells us the most likely class for the image. That means we need 10 output units for the 10 classes (digits). We'll see how to convert the network output into a probability distribution next.\n",
    "\n",
    "> **Exercise:** Flatten the batch of images `images`. Then build a multi-layer network with 784 input units, 256 hidden units, and 10 output units using random tensors for the weights and biases. For now, use a sigmoid activation for the hidden layer. Leave the output layer without an activation, we'll add one that gives us a probability distribution next."
   ]
  },
  {
   "cell_type": "code",
   "execution_count": 19,
   "metadata": {},
   "outputs": [
    {
     "name": "stdout",
     "output_type": "stream",
     "text": [
      "torch.Size([64, 784])\n",
      "tensor([[  7.2897,  -7.0072,  -3.4800,  16.7221,   4.9050,   6.4689,   6.7400,\n",
      "           3.1626,  19.6993, -10.7673],\n",
      "        [ -2.0211,  -4.3543, -17.3395,  11.0573,  -5.2860,   0.4123,  -2.1168,\n",
      "           1.6330,  17.6415, -11.2101],\n",
      "        [ -2.0114,  -9.9856,  -3.1170,  14.7562,   3.8012,   4.4314,   2.6177,\n",
      "           7.1319,  11.9661,  -9.1159],\n",
      "        [  4.6528, -10.1354, -15.4422,  10.3458,   9.2973,   1.6390,   3.6605,\n",
      "           4.1248,  13.7868,  -7.4375],\n",
      "        [ -6.4513, -15.7429, -13.9051,   6.1406,  -5.9507,   3.1034,   0.0276,\n",
      "           2.6031,  12.2917, -15.4717],\n",
      "        [  3.3284,  -8.2937,  -8.1336,  12.3486,   4.5008,   8.6970,   1.7900,\n",
      "           6.6627,  11.6756, -13.7978],\n",
      "        [  3.3648,  -4.9664,   6.0004,  18.8346,   6.0182,   5.5086,   3.9224,\n",
      "           6.2879,  17.8440, -17.5255],\n",
      "        [  2.0795,  -8.9220,   7.4529,  10.0991,   6.6302,   9.1004,  -1.3417,\n",
      "          -2.7693,   6.5942, -15.8385],\n",
      "        [  6.2840, -17.8215,   5.6614,   4.7930,  14.5778,  -0.4420,  -0.4986,\n",
      "           2.9563,   3.6226,  -6.0423],\n",
      "        [ -6.7191, -14.9935, -11.0321,   9.5212,   6.5802,   6.7310,   9.0032,\n",
      "          -2.1809,  20.3398,  -9.9428],\n",
      "        [ -2.5790, -14.1865,   9.3621,  13.9077,   3.3571,   4.6576,  12.5263,\n",
      "          -6.2660,  18.0341, -18.9721],\n",
      "        [  1.1370, -11.2348,   0.5072,  19.0394,   5.1550,  10.9444,   2.3315,\n",
      "           1.6454,  15.4453, -14.0750],\n",
      "        [ -4.4082, -14.5180,   0.5991,  10.5645,  12.3969,   8.2901,   0.2611,\n",
      "          -0.2954,  16.0871, -16.0050],\n",
      "        [ -2.8774,  -8.7840,   2.1486,   7.8857,  15.5689,  10.7772,   5.2339,\n",
      "          -0.2897,   8.7871, -14.4272],\n",
      "        [  3.3599,  -1.6939,   0.1691,  21.3216,   6.4191,   0.6034,  -6.1666,\n",
      "          10.2766,  12.6405, -10.6739],\n",
      "        [  4.1007, -13.9197,   0.9755,   9.8428,   4.2634,  10.4088,   4.9280,\n",
      "          -5.0689,   9.8595, -10.3389],\n",
      "        [ -0.9250,  -4.2489,  -2.0480,  11.8565,   6.0450,  11.4137,   6.4214,\n",
      "          -3.5399,  11.7982, -10.2626],\n",
      "        [  5.9885, -12.8803,  -5.5119,  14.5092,   0.0516,  -2.8226,   9.2641,\n",
      "           1.9217,  11.2029, -15.8245],\n",
      "        [ -2.5021, -11.3213,  -2.9936,  12.6001,   0.8701,  14.6854,   8.1906,\n",
      "           1.8708,   9.3527, -15.4796],\n",
      "        [  3.0062, -12.7529,  -6.9307,  11.8049,  -0.7048,   8.2910,   4.6888,\n",
      "          -2.7215,   5.6570, -12.9692],\n",
      "        [ -1.3478,  -3.1561,  -5.0147,  13.5930,   3.5667,  13.2340,   2.7244,\n",
      "           4.0056,   7.9914, -10.0903],\n",
      "        [  7.8835,  -9.8820,  -4.5433,  15.9230,  -5.0974,  10.3332,   4.9713,\n",
      "          -5.7533,   0.0312, -21.3871],\n",
      "        [  3.0032,   2.0438,   7.8046,  18.6850,   4.0193,   3.5329,  -4.4555,\n",
      "          -1.3735,   9.4650,  -8.2708],\n",
      "        [  1.9965,  -4.1534,  -8.5046,   1.0595,  -3.1840,   2.0589,  -5.2734,\n",
      "          -2.7800,  14.7019, -13.6710],\n",
      "        [  1.8947, -12.5247,  -8.7938,  19.3766,   9.5679,   6.8837,   2.2961,\n",
      "          -1.7859,   4.3095, -13.0199],\n",
      "        [  0.5489,  -7.0807,  -3.4685,  10.3647,   5.6852,   3.1500,  -0.1663,\n",
      "          -3.6927,   8.3421, -13.8416],\n",
      "        [  5.1745,  -4.0952,  -4.4356,  18.9286,  10.0766,   9.4185,  -4.1021,\n",
      "           5.4764,  15.6002,  -7.9810],\n",
      "        [  0.3444, -16.1288,  -6.4438,  15.0779,  -4.3460,  13.1667,  11.0230,\n",
      "          -0.7265,  14.2820, -13.0102],\n",
      "        [ -2.6165,  -7.2863,   0.0508,   6.9027,  -4.6518,  13.6148,   4.3173,\n",
      "          -3.2134,   5.9033, -19.8122],\n",
      "        [  1.6162,  -0.4963,  -3.4545,  11.3463,   1.9743,   8.3416,  -4.4832,\n",
      "          10.9342,  12.8403, -19.6401],\n",
      "        [-10.1360, -16.1905,   4.6069,  11.4931,   9.4206,   4.8598,  11.7774,\n",
      "           3.4214,  10.8241,  -9.5420],\n",
      "        [ -2.5026, -10.9195,   5.9278,  11.0354,  12.1598,   1.2120,  17.4648,\n",
      "           9.6942,  21.1898, -13.3332],\n",
      "        [  1.2092, -12.9723,  -3.1830,  12.6527,   8.4054,  10.3072,   4.6322,\n",
      "          -0.3312,  10.6211, -12.8206],\n",
      "        [ -5.0709, -16.7254,  -2.5162,  16.9441,  11.0061,  14.4805,  13.3820,\n",
      "           5.9923,  19.1781, -14.3486],\n",
      "        [ -2.2214,  -9.7013,  -3.8450,   6.0580,   3.7188,  12.1882,  -2.0291,\n",
      "           3.2607,   8.7406, -10.8164],\n",
      "        [  5.0632,  -6.9543,   4.8054,  18.7603,   8.2753,   8.9703,  -2.4392,\n",
      "          -5.3821,   8.3477, -14.0197],\n",
      "        [ -1.8145,  -5.6124,  -3.4155,  18.7197,  -0.3716,   2.8022,   1.1660,\n",
      "          14.2831,  23.2667, -13.0675],\n",
      "        [ -0.2966,  -8.4481,  -5.1849,   4.0828,   7.7800,   3.4224,   1.2140,\n",
      "          -0.2900,  17.4432, -15.0138],\n",
      "        [ -3.7337,  -4.5942,  -2.9448,   9.9527,   4.8651,  11.8411,  -2.3321,\n",
      "           4.7718,  10.3392,  -7.3836],\n",
      "        [ -2.8758, -12.9338,   2.7741,  19.8928,  14.1712,  13.9924,   7.5582,\n",
      "           3.5010,  15.4792,  -4.5401],\n",
      "        [  3.7914,  -4.9910,  -4.8101,  12.1787,   3.6743,  11.2026,  -6.0003,\n",
      "          -2.0674,   7.2190, -15.7490],\n",
      "        [ -4.7295, -14.2783,   5.5774,  14.1657,   5.7673,   9.8456,   9.5573,\n",
      "          -1.9745,  11.8353, -10.9160],\n",
      "        [  3.3856,  -7.0889,  -2.0200,   9.1723,   4.4678,   3.4200,   7.5813,\n",
      "          -1.2846,   7.7794, -11.4188],\n",
      "        [ -2.5075, -13.2296,  -3.7036,  21.5933,  18.2049,   9.8076,   8.9558,\n",
      "           2.7544,  11.2002, -13.4823],\n",
      "        [  3.3805, -12.6481,  -0.2173,  20.7407,   2.7836,   4.5514,   5.6856,\n",
      "           0.7747,  15.5664, -14.5965],\n",
      "        [ -4.9017, -10.2764,  -2.8535,   7.3560,   5.6123,   6.8363,  -2.5057,\n",
      "          10.1236,  15.2294, -11.1925],\n",
      "        [  4.6043, -14.9903,  -8.8063,  17.6499,  -2.0966,   5.4679,  13.9283,\n",
      "           9.1052,  14.3753, -10.7035],\n",
      "        [  6.6796, -10.6247,   3.3549,   4.7415,   3.8054,  -0.4928,   3.9506,\n",
      "          -2.0087,   4.8130,   0.0693],\n",
      "        [ -9.3294, -14.3104, -10.5694,  13.9880,  -4.4021,   9.8689,   3.8778,\n",
      "           4.8144,  21.4758, -14.9250],\n",
      "        [ -2.4133,  -3.9414,   4.6887,   0.9864,  -4.0350,   5.9143,   3.9753,\n",
      "           7.1248,  14.9024, -13.7657],\n",
      "        [  0.7411,  -0.4829,  -4.8239,  17.7376,   5.4604,  12.7914,  -2.1908,\n",
      "           5.7101,  11.1739, -19.0149],\n",
      "        [ -8.6269, -15.4509,  -0.9863,  11.0770,   8.7048,  12.5975,   3.1820,\n",
      "          -1.0067,   2.0393, -17.6819],\n",
      "        [-11.2656, -23.2085,  -3.7172,   3.4205,   9.5015,   7.1580,  12.3436,\n",
      "          -1.7323,   8.9103, -15.2973],\n",
      "        [ -2.5060,  -4.7616,   0.1043,  11.6247,   4.3978,   8.3533,   6.3237,\n",
      "           7.9518,  14.0151, -15.5043],\n",
      "        [  4.6448,   1.2686,  -8.1564,  14.9075,  15.8854,  -3.6613,  -1.0400,\n",
      "           4.5596,  18.4900,  -9.1532],\n",
      "        [  4.2918,  -5.9057,  -5.2564,  15.9991,  12.3399,  12.0099,   7.7299,\n",
      "          -1.2971,  14.8952,  -9.8996],\n",
      "        [ -4.8855,  -2.8509,   0.5558,  16.5874,  10.7184,   4.7142,   2.1715,\n",
      "           4.7570,   7.6456, -13.4807],\n",
      "        [  2.2476,  -6.2265,  -0.2276,  18.5204,  -0.9562,   3.5543,  -2.7424,\n",
      "           2.6474,  14.5034,  -7.2986],\n",
      "        [  4.1486,  -5.9615, -16.4472,   6.7839,   4.2879,  10.4291,   1.6643,\n",
      "          -4.0681,  14.8207,  -5.4800],\n",
      "        [  7.4731,  -7.5161,   2.1756,  17.9739,  17.6702,   8.1307,  12.4498,\n",
      "          11.6592,  13.9960, -12.3187],\n",
      "        [  2.0121, -13.2289,  -2.8897,  15.4978,   7.3792,  13.8297,   3.9413,\n",
      "          -2.3079,   6.9279,  -7.4545],\n",
      "        [  1.8898,  -6.2649,  15.5514,   6.0608,  10.1363,   7.5310,  -0.4470,\n",
      "           8.1758,  19.5105, -14.2502],\n",
      "        [ -2.2679,  -6.6208,   1.3874,   1.3649,   5.0773,   2.9113,   4.2792,\n",
      "           0.1209,   5.5700,  -9.0265],\n",
      "        [ -1.6142,  -2.7346,   5.8722,  15.0067,   0.2307,   1.2540,   3.1535,\n",
      "           7.9829,  16.9943, -16.8595]])\n"
     ]
    }
   ],
   "source": [
    "## Solution\n",
    "def activation(x):\n",
    "    return 1/(1+torch.exp(-x))\n",
    "\n",
    "# Flatten the input images\n",
    "inputs = images.view(images.shape[0], -1)\n",
    "print(inputs.shape)\n",
    "# Create parameters\n",
    "w1 = torch.randn(784, 256)\n",
    "b1 = torch.randn(256)\n",
    "\n",
    "w2 = torch.randn(256, 10)\n",
    "b2 = torch.randn(10)\n",
    "\n",
    "h = activation(torch.mm(inputs, w1) + b1)\n",
    "\n",
    "out = torch.mm(h, w2) + b2\n",
    "print(out)"
   ]
  },
  {
   "cell_type": "markdown",
   "metadata": {},
   "source": [
    "Now we have 10 outputs for our network. We want to pass in an image to our network and get out a probability distribution over the classes that tells us the likely class(es) the image belongs to. Something that looks like this:\n",
    "<img src='assets/image_distribution.png' width=500px>\n",
    "\n",
    "Here we see that the probability for each class is roughly the same. This is representing an untrained network, it hasn't seen any data yet so it just returns a uniform distribution with equal probabilities for each class.\n",
    "\n",
    "To calculate this probability distribution, we often use the [**softmax** function](https://en.wikipedia.org/wiki/Softmax_function). Mathematically this looks like\n",
    "\n",
    "$$\n",
    "\\Large \\sigma(x_i) = \\cfrac{e^{x_i}}{\\sum_k^K{e^{x_k}}}\n",
    "$$\n",
    "\n",
    "What this does is squish each input $x_i$ between 0 and 1 and normalizes the values to give you a proper probability distribution where the probabilites sum up to one.\n",
    "\n",
    "> **Exercise:** Implement a function `softmax` that performs the softmax calculation and returns probability distributions for each example in the batch. Note that you'll need to pay attention to the shapes when doing this. If you have a tensor `a` with shape `(64, 10)` and a tensor `b` with shape `(64,)`, doing `a/b` will give you an error because PyTorch will try to do the division across the columns (called broadcasting) but you'll get a size mismatch. The way to think about this is for each of the 64 examples, you only want to divide by one value, the sum in the denominator. So you need `b` to have a shape of `(64, 1)`. This way PyTorch will divide the 10 values in each row of `a` by the one value in each row of `b`. Pay attention to how you take the sum as well. You'll need to define the `dim` keyword in `torch.sum`. Setting `dim=0` takes the sum across the rows while `dim=1` takes the sum across the columns."
   ]
  },
  {
   "cell_type": "code",
   "execution_count": 20,
   "metadata": {},
   "outputs": [
    {
     "name": "stdout",
     "output_type": "stream",
     "text": [
      "torch.Size([64, 10])\n",
      "tensor([1.0000, 1.0000, 1.0000, 1.0000, 1.0000, 1.0000, 1.0000, 1.0000, 1.0000,\n",
      "        1.0000, 1.0000, 1.0000, 1.0000, 1.0000, 1.0000, 1.0000, 1.0000, 1.0000,\n",
      "        1.0000, 1.0000, 1.0000, 1.0000, 1.0000, 1.0000, 1.0000, 1.0000, 1.0000,\n",
      "        1.0000, 1.0000, 1.0000, 1.0000, 1.0000, 1.0000, 1.0000, 1.0000, 1.0000,\n",
      "        1.0000, 1.0000, 1.0000, 1.0000, 1.0000, 1.0000, 1.0000, 1.0000, 1.0000,\n",
      "        1.0000, 1.0000, 1.0000, 1.0000, 1.0000, 1.0000, 1.0000, 1.0000, 1.0000,\n",
      "        1.0000, 1.0000, 1.0000, 1.0000, 1.0000, 1.0000, 1.0000, 1.0000, 1.0000,\n",
      "        1.0000])\n"
     ]
    }
   ],
   "source": [
    "## Solution\n",
    "def softmax(x):\n",
    "    return torch.exp(x)/torch.sum(torch.exp(x), dim=1).view(-1, 1)\n",
    "\n",
    "probabilities = softmax(out)\n",
    "\n",
    "# Does it have the right shape? Should be (64, 10)\n",
    "print(probabilities.shape)\n",
    "# Does it sum to 1?\n",
    "print(probabilities.sum(dim=1))"
   ]
  },
  {
   "cell_type": "markdown",
   "metadata": {},
   "source": [
    "## Building networks with PyTorch\n",
    "\n",
    "PyTorch provides a module `nn` that makes building networks much simpler. Here I'll show you how to build the same one as above with 784 inputs, 256 hidden units, 10 output units and a softmax output."
   ]
  },
  {
   "cell_type": "code",
   "execution_count": 21,
   "metadata": {},
   "outputs": [],
   "source": [
    "from torch import nn"
   ]
  },
  {
   "cell_type": "code",
   "execution_count": 22,
   "metadata": {},
   "outputs": [],
   "source": [
    "class Network(nn.Module):\n",
    "    def __init__(self):\n",
    "        super().__init__()\n",
    "        \n",
    "        # Inputs to hidden layer linear transformation\n",
    "        self.hidden = nn.Linear(784, 256)\n",
    "        # Output layer, 10 units - one for each digit\n",
    "        self.output = nn.Linear(256, 10)\n",
    "        \n",
    "        # Define sigmoid activation and softmax output \n",
    "        self.sigmoid = nn.Sigmoid()\n",
    "        self.softmax = nn.Softmax(dim=1)\n",
    "        \n",
    "    def forward(self, x):\n",
    "        # Pass the input tensor through each of our operations\n",
    "        x = self.hidden(x)\n",
    "        x = self.sigmoid(x)\n",
    "        x = self.output(x)\n",
    "        x = self.softmax(x)\n",
    "        \n",
    "        return x"
   ]
  },
  {
   "cell_type": "markdown",
   "metadata": {},
   "source": [
    "Let's go through this bit by bit.\n",
    "\n",
    "```python\n",
    "class Network(nn.Module):\n",
    "```\n",
    "\n",
    "Here we're inheriting from `nn.Module`. Combined with `super().__init__()` this creates a class that tracks the architecture and provides a lot of useful methods and attributes. It is mandatory to inherit from `nn.Module` when you're creating a class for your network. The name of the class itself can be anything.\n",
    "\n",
    "```python\n",
    "self.hidden = nn.Linear(784, 256)\n",
    "```\n",
    "\n",
    "This line creates a module for a linear transformation, $x\\mathbf{W} + b$, with 784 inputs and 256 outputs and assigns it to `self.hidden`. The module automatically creates the weight and bias tensors which we'll use in the `forward` method. You can access the weight and bias tensors once the network (`net`) is created with `net.hidden.weight` and `net.hidden.bias`.\n",
    "\n",
    "```python\n",
    "self.output = nn.Linear(256, 10)\n",
    "```\n",
    "\n",
    "Similarly, this creates another linear transformation with 256 inputs and 10 outputs.\n",
    "\n",
    "```python\n",
    "self.sigmoid = nn.Sigmoid()\n",
    "self.softmax = nn.Softmax(dim=1)\n",
    "```\n",
    "\n",
    "Here I defined operations for the sigmoid activation and softmax output. Setting `dim=1` in `nn.Softmax(dim=1)` calculates softmax across the columns.\n",
    "\n",
    "```python\n",
    "def forward(self, x):\n",
    "```\n",
    "\n",
    "PyTorch networks created with `nn.Module` must have a `forward` method defined. It takes in a tensor `x` and passes it through the operations you defined in the `__init__` method.\n",
    "\n",
    "```python\n",
    "x = self.hidden(x)\n",
    "x = self.sigmoid(x)\n",
    "x = self.output(x)\n",
    "x = self.softmax(x)\n",
    "```\n",
    "\n",
    "Here the input tensor `x` is passed through each operation a reassigned to `x`. We can see that the input tensor goes through the hidden layer, then a sigmoid function, then the output layer, and finally the softmax function. It doesn't matter what you name the variables here, as long as the inputs and outputs of the operations match the network architecture you want to build. The order in which you define things in the `__init__` method doesn't matter, but you'll need to sequence the operations correctly in the `forward` method.\n",
    "\n",
    "Now we can create a `Network` object."
   ]
  },
  {
   "cell_type": "code",
   "execution_count": 23,
   "metadata": {},
   "outputs": [
    {
     "data": {
      "text/plain": [
       "Network(\n",
       "  (hidden): Linear(in_features=784, out_features=256, bias=True)\n",
       "  (output): Linear(in_features=256, out_features=10, bias=True)\n",
       "  (sigmoid): Sigmoid()\n",
       "  (softmax): Softmax(dim=1)\n",
       ")"
      ]
     },
     "execution_count": 23,
     "metadata": {},
     "output_type": "execute_result"
    }
   ],
   "source": [
    "# Create the network and look at it's text representation\n",
    "model = Network()\n",
    "model"
   ]
  },
  {
   "cell_type": "markdown",
   "metadata": {},
   "source": [
    "You can define the network somewhat more concisely and clearly using the `torch.nn.functional` module. This is the most common way you'll see networks defined as many operations are simple element-wise functions. We normally import this module as `F`, `import torch.nn.functional as F`."
   ]
  },
  {
   "cell_type": "code",
   "execution_count": 24,
   "metadata": {},
   "outputs": [],
   "source": [
    "import torch.nn.functional as F\n",
    "\n",
    "class Network(nn.Module):\n",
    "    def __init__(self):\n",
    "        super().__init__()\n",
    "        # Inputs to hidden layer linear transformation\n",
    "        self.hidden = nn.Linear(784, 256)\n",
    "        # Output layer, 10 units - one for each digit\n",
    "        self.output = nn.Linear(256, 10)\n",
    "        \n",
    "    def forward(self, x):\n",
    "        # Hidden layer with sigmoid activation\n",
    "        x = F.sigmoid(self.hidden(x))\n",
    "        # Output layer with softmax activation\n",
    "        x = F.softmax(self.output(x), dim=1)\n",
    "        \n",
    "        return x"
   ]
  },
  {
   "cell_type": "markdown",
   "metadata": {},
   "source": [
    "### Activation functions\n",
    "\n",
    "So far we've only been looking at the softmax activation, but in general any function can be used as an activation function. The only requirement is that for a network to approximate a non-linear function, the activation functions must be non-linear. Here are a few more examples of common activation functions: Tanh (hyperbolic tangent), and ReLU (rectified linear unit).\n",
    "\n",
    "<img src=\"assets/activation.png\" width=700px>\n",
    "\n",
    "In practice, the ReLU function is used almost exclusively as the activation function for hidden layers."
   ]
  },
  {
   "cell_type": "markdown",
   "metadata": {},
   "source": [
    "### Your Turn to Build a Network\n",
    "\n",
    "<img src=\"assets/mlp_mnist.png\" width=600px>\n",
    "\n",
    "> **Exercise:** Create a network with 784 input units, a hidden layer with 128 units and a ReLU activation, then a hidden layer with 64 units and a ReLU activation, and finally an output layer with a softmax activation as shown above. You can use a ReLU activation with the `nn.ReLU` module or `F.relu` function.\n",
    "\n",
    "It's good practice to name your layers by their type of network, for instance 'fc' to represent a fully-connected layer. As you code your solution, use `fc1`, `fc2`, and `fc3` as your layer names."
   ]
  },
  {
   "cell_type": "code",
   "execution_count": 25,
   "metadata": {
    "scrolled": true
   },
   "outputs": [
    {
     "data": {
      "text/plain": [
       "Network(\n",
       "  (fc1): Linear(in_features=784, out_features=128, bias=True)\n",
       "  (fc2): Linear(in_features=128, out_features=64, bias=True)\n",
       "  (fc3): Linear(in_features=64, out_features=10, bias=True)\n",
       ")"
      ]
     },
     "execution_count": 25,
     "metadata": {},
     "output_type": "execute_result"
    }
   ],
   "source": [
    "## Solution\n",
    "\n",
    "class Network(nn.Module):\n",
    "    def __init__(self):\n",
    "        super().__init__()\n",
    "        # Defining the layers, 128, 64, 10 units each\n",
    "        self.fc1 = nn.Linear(784, 128)\n",
    "        self.fc2 = nn.Linear(128, 64)\n",
    "        # Output layer, 10 units - one for each digit\n",
    "        self.fc3 = nn.Linear(64, 10)\n",
    "        \n",
    "    def forward(self, x):\n",
    "        ''' Forward pass through the network, returns the output logits '''\n",
    "        \n",
    "        x = self.fc1(x)\n",
    "        x = F.relu(x)\n",
    "        x = self.fc2(x)\n",
    "        x = F.relu(x)\n",
    "        x = self.fc3(x)\n",
    "        x = F.softmax(x, dim=1)\n",
    "        \n",
    "        return x\n",
    "\n",
    "model = Network()\n",
    "model"
   ]
  },
  {
   "cell_type": "markdown",
   "metadata": {},
   "source": [
    "### Initializing weights and biases\n",
    "\n",
    "The weights and such are automatically initialized for you, but it's possible to customize how they are initialized. The weights and biases are tensors attached to the layer you defined, you can get them with `model.fc1.weight` for instance."
   ]
  },
  {
   "cell_type": "code",
   "execution_count": 26,
   "metadata": {},
   "outputs": [
    {
     "name": "stdout",
     "output_type": "stream",
     "text": [
      "Parameter containing:\n",
      "tensor([[ 3.4655e-02,  1.6467e-02,  1.6754e-02,  ..., -1.9273e-02,\n",
      "          1.5582e-02, -2.3352e-02],\n",
      "        [ 8.8442e-03, -1.7545e-02, -1.8616e-02,  ...,  3.3455e-02,\n",
      "         -1.9955e-02, -2.5406e-02],\n",
      "        [ 1.5174e-02, -1.0135e-03,  2.4653e-02,  ...,  8.3584e-05,\n",
      "          1.2701e-03,  2.5016e-02],\n",
      "        ...,\n",
      "        [-1.1666e-02,  1.5027e-02, -1.5888e-02,  ...,  2.1359e-02,\n",
      "          3.9758e-03, -3.0142e-02],\n",
      "        [ 1.9513e-02,  8.7199e-03,  1.8232e-02,  ...,  2.9760e-03,\n",
      "          1.7235e-02,  3.0819e-02],\n",
      "        [-7.0154e-03,  2.4224e-02, -2.5327e-02,  ..., -3.5319e-02,\n",
      "          2.7943e-02,  6.5483e-03]], requires_grad=True)\n",
      "Parameter containing:\n",
      "tensor([ 0.0295, -0.0070, -0.0004,  0.0280,  0.0165,  0.0254,  0.0023, -0.0347,\n",
      "         0.0186, -0.0207, -0.0163, -0.0082,  0.0165,  0.0330,  0.0246, -0.0033,\n",
      "         0.0330,  0.0158, -0.0099, -0.0227, -0.0277,  0.0225, -0.0353,  0.0332,\n",
      "        -0.0305,  0.0248, -0.0151, -0.0203, -0.0152,  0.0043,  0.0122, -0.0113,\n",
      "         0.0215,  0.0152, -0.0189, -0.0254, -0.0023,  0.0047,  0.0266, -0.0350,\n",
      "        -0.0313,  0.0097,  0.0171, -0.0014, -0.0352, -0.0266, -0.0196,  0.0279,\n",
      "         0.0273,  0.0211,  0.0258,  0.0326,  0.0060,  0.0228, -0.0146, -0.0117,\n",
      "         0.0250,  0.0120,  0.0246, -0.0096, -0.0288, -0.0304, -0.0266, -0.0030,\n",
      "        -0.0212, -0.0022,  0.0112,  0.0320, -0.0205,  0.0100,  0.0103, -0.0064,\n",
      "         0.0147,  0.0310,  0.0354, -0.0045,  0.0067, -0.0211,  0.0304,  0.0177,\n",
      "         0.0327, -0.0064,  0.0169,  0.0126, -0.0107, -0.0002, -0.0131, -0.0241,\n",
      "         0.0304,  0.0107, -0.0132,  0.0355,  0.0081, -0.0020,  0.0354,  0.0249,\n",
      "         0.0209, -0.0217,  0.0283,  0.0177, -0.0218,  0.0022,  0.0283,  0.0197,\n",
      "         0.0144,  0.0043,  0.0328,  0.0252, -0.0313, -0.0118,  0.0201,  0.0143,\n",
      "         0.0237,  0.0173, -0.0193, -0.0080,  0.0077, -0.0207, -0.0331, -0.0300,\n",
      "        -0.0180, -0.0010, -0.0025,  0.0159, -0.0125,  0.0239,  0.0182, -0.0349],\n",
      "       requires_grad=True)\n"
     ]
    }
   ],
   "source": [
    "print(model.fc1.weight)\n",
    "print(model.fc1.bias)"
   ]
  },
  {
   "cell_type": "markdown",
   "metadata": {},
   "source": [
    "For custom initialization, we want to modify these tensors in place. These are actually autograd *Variables*, so we need to get back the actual tensors with `model.fc1.weight.data`. Once we have the tensors, we can fill them with zeros (for biases) or random normal values."
   ]
  },
  {
   "cell_type": "code",
   "execution_count": 27,
   "metadata": {},
   "outputs": [
    {
     "data": {
      "text/plain": [
       "tensor([0., 0., 0., 0., 0., 0., 0., 0., 0., 0., 0., 0., 0., 0., 0., 0., 0., 0., 0., 0., 0., 0., 0., 0.,\n",
       "        0., 0., 0., 0., 0., 0., 0., 0., 0., 0., 0., 0., 0., 0., 0., 0., 0., 0., 0., 0., 0., 0., 0., 0.,\n",
       "        0., 0., 0., 0., 0., 0., 0., 0., 0., 0., 0., 0., 0., 0., 0., 0., 0., 0., 0., 0., 0., 0., 0., 0.,\n",
       "        0., 0., 0., 0., 0., 0., 0., 0., 0., 0., 0., 0., 0., 0., 0., 0., 0., 0., 0., 0., 0., 0., 0., 0.,\n",
       "        0., 0., 0., 0., 0., 0., 0., 0., 0., 0., 0., 0., 0., 0., 0., 0., 0., 0., 0., 0., 0., 0., 0., 0.,\n",
       "        0., 0., 0., 0., 0., 0., 0., 0.])"
      ]
     },
     "execution_count": 27,
     "metadata": {},
     "output_type": "execute_result"
    }
   ],
   "source": [
    "# Set biases to all zeros\n",
    "model.fc1.bias.data.fill_(0)"
   ]
  },
  {
   "cell_type": "code",
   "execution_count": 28,
   "metadata": {},
   "outputs": [
    {
     "data": {
      "text/plain": [
       "tensor([[ 0.0020,  0.0014,  0.0189,  ..., -0.0098,  0.0148, -0.0050],\n",
       "        [ 0.0097, -0.0003,  0.0012,  ..., -0.0068,  0.0125, -0.0093],\n",
       "        [-0.0188, -0.0011,  0.0148,  ..., -0.0026, -0.0006,  0.0111],\n",
       "        ...,\n",
       "        [-0.0080,  0.0005,  0.0102,  ..., -0.0025,  0.0068, -0.0184],\n",
       "        [ 0.0018, -0.0234, -0.0100,  ...,  0.0105, -0.0027, -0.0126],\n",
       "        [ 0.0204, -0.0001,  0.0006,  ...,  0.0101,  0.0188, -0.0139]])"
      ]
     },
     "execution_count": 28,
     "metadata": {},
     "output_type": "execute_result"
    }
   ],
   "source": [
    "# sample from random normal with standard dev = 0.01\n",
    "model.fc1.weight.data.normal_(std=0.01)"
   ]
  },
  {
   "cell_type": "markdown",
   "metadata": {},
   "source": [
    "### Forward pass\n",
    "\n",
    "Now that we have a network, let's see what happens when we pass in an image."
   ]
  },
  {
   "cell_type": "code",
   "execution_count": 29,
   "metadata": {},
   "outputs": [
    {
     "data": {
      "image/png": "[encoded data removed]",
      "text/plain": [
       "<Figure size 432x648 with 2 Axes>"
      ]
     },
     "metadata": {
      "image/png": {
       "height": 235,
       "width": 424
      },
      "needs_background": "light"
     },
     "output_type": "display_data"
    }
   ],
   "source": [
    "# Grab some data \n",
    "dataiter = iter(trainloader)\n",
    "images, labels = dataiter.next()\n",
    "\n",
    "# Resize images into a 1D vector, new shape is (batch size, color channels, image pixels) \n",
    "images.resize_(64, 1, 784)\n",
    "# or images.resize_(images.shape[0], 1, 784) to automatically get batch size\n",
    "\n",
    "# Forward pass through the network\n",
    "img_idx = 0\n",
    "ps = model.forward(images[img_idx,:])\n",
    "\n",
    "img = images[img_idx]\n",
    "helper.view_classify(img.view(1, 28, 28), ps)"
   ]
  },
  {
   "cell_type": "markdown",
   "metadata": {},
   "source": [
    "As you can see above, our network has basically no idea what this digit is. It's because we haven't trained it yet, all the weights are random!\n",
    "\n",
    "### Using `nn.Sequential`\n",
    "\n",
    "PyTorch provides a convenient way to build networks like this where a tensor is passed sequentially through operations, `nn.Sequential` ([documentation](https://pytorch.org/docs/master/nn.html#torch.nn.Sequential)). Using this to build the equivalent network:"
   ]
  },
  {
   "cell_type": "code",
   "execution_count": 30,
   "metadata": {},
   "outputs": [
    {
     "name": "stdout",
     "output_type": "stream",
     "text": [
      "Sequential(\n",
      "  (0): Linear(in_features=784, out_features=128, bias=True)\n",
      "  (1): ReLU()\n",
      "  (2): Linear(in_features=128, out_features=64, bias=True)\n",
      "  (3): ReLU()\n",
      "  (4): Linear(in_features=64, out_features=10, bias=True)\n",
      "  (5): Softmax(dim=1)\n",
      ")\n"
     ]
    },
    {
     "data": {
      "image/png": "[encoded data removed]",
      "text/plain": [
       "<Figure size 432x648 with 2 Axes>"
      ]
     },
     "metadata": {
      "image/png": {
       "height": 235,
       "width": 424
      },
      "needs_background": "light"
     },
     "output_type": "display_data"
    }
   ],
   "source": [
    "# Hyperparameters for our network\n",
    "input_size = 784\n",
    "hidden_sizes = [128, 64]\n",
    "output_size = 10\n",
    "\n",
    "# Build a feed-forward network\n",
    "model = nn.Sequential(nn.Linear(input_size, hidden_sizes[0]),\n",
    "                      nn.ReLU(),\n",
    "                      nn.Linear(hidden_sizes[0], hidden_sizes[1]),\n",
    "                      nn.ReLU(),\n",
    "                      nn.Linear(hidden_sizes[1], output_size),\n",
    "                      nn.Softmax(dim=1))\n",
    "print(model)\n",
    "\n",
    "# Forward pass through the network and display output\n",
    "images, labels = next(iter(trainloader))\n",
    "images.resize_(images.shape[0], 1, 784)\n",
    "ps = model.forward(images[0,:])\n",
    "helper.view_classify(images[0].view(1, 28, 28), ps)"
   ]
  },
  {
   "cell_type": "markdown",
   "metadata": {},
   "source": [
    "The operations are availble by passing in the appropriate index. For example, if you want to get first Linear operation and look at the weights, you'd use `model[0]`."
   ]
  },
  {
   "cell_type": "code",
   "execution_count": 17,
   "metadata": {},
   "outputs": [
    {
     "name": "stdout",
     "output_type": "stream",
     "text": [
      "Linear(in_features=784, out_features=128, bias=True)\n"
     ]
    },
    {
     "data": {
      "text/plain": [
       "Parameter containing:\n",
       "tensor([[-7.0372e-03,  2.9689e-02,  2.6028e-02,  ...,  1.1196e-02,\n",
       "         -2.1928e-02, -3.4886e-02],\n",
       "        [ 1.0624e-04, -1.6610e-02, -2.2891e-02,  ..., -6.4412e-03,\n",
       "         -2.5026e-02,  1.0674e-02],\n",
       "        [-2.4707e-02,  1.4146e-02,  2.0084e-02,  ...,  1.2227e-02,\n",
       "          2.3441e-02, -9.5175e-03],\n",
       "        ...,\n",
       "        [-2.0119e-02,  7.2614e-03, -1.3481e-02,  ...,  8.1745e-03,\n",
       "         -1.3348e-02, -1.1955e-02],\n",
       "        [ 3.2282e-02,  1.8674e-02, -3.0826e-02,  ...,  1.7296e-02,\n",
       "         -2.6710e-02, -3.0684e-02],\n",
       "        [ 1.7686e-02,  3.1376e-02, -2.2645e-02,  ...,  2.4630e-02,\n",
       "          3.1129e-02,  7.0939e-03]])"
      ]
     },
     "execution_count": 17,
     "metadata": {},
     "output_type": "execute_result"
    }
   ],
   "source": [
    "print(model[0])\n",
    "torch.randn()\n",
    "model[0].weight"
   ]
  },
  {
   "cell_type": "markdown",
   "metadata": {},
   "source": [
    "You can also pass in an `OrderedDict` to name the individual layers and operations, instead of using incremental integers. Note that dictionary keys must be unique, so _each operation must have a different name_."
   ]
  },
  {
   "cell_type": "code",
   "execution_count": 18,
   "metadata": {},
   "outputs": [
    {
     "data": {
      "text/plain": [
       "Sequential(\n",
       "  (fc1): Linear(in_features=784, out_features=128, bias=True)\n",
       "  (relu1): ReLU()\n",
       "  (fc2): Linear(in_features=128, out_features=64, bias=True)\n",
       "  (relu2): ReLU()\n",
       "  (output): Linear(in_features=64, out_features=10, bias=True)\n",
       "  (softmax): Softmax()\n",
       ")"
      ]
     },
     "execution_count": 18,
     "metadata": {},
     "output_type": "execute_result"
    }
   ],
   "source": [
    "from collections import OrderedDict\n",
    "model = nn.Sequential(OrderedDict([\n",
    "                      ('fc1', nn.Linear(input_size, hidden_sizes[0])),\n",
    "                      ('relu1', nn.ReLU()),\n",
    "                      ('fc2', nn.Linear(hidden_sizes[0], hidden_sizes[1])),\n",
    "                      ('relu2', nn.ReLU()),\n",
    "                      ('output', nn.Linear(hidden_sizes[1], output_size)),\n",
    "                      ('softmax', nn.Softmax(dim=1))]))\n",
    "model"
   ]
  },
  {
   "cell_type": "markdown",
   "metadata": {},
   "source": [
    "Now you can access layers either by integer or the name"
   ]
  },
  {
   "cell_type": "code",
   "execution_count": 19,
   "metadata": {},
   "outputs": [
    {
     "name": "stdout",
     "output_type": "stream",
     "text": [
      "Linear(in_features=784, out_features=128, bias=True)\n",
      "Linear(in_features=784, out_features=128, bias=True)\n"
     ]
    }
   ],
   "source": [
    "print(model[0])\n",
    "print(model.fc1)"
   ]
  },
  {
   "cell_type": "markdown",
   "metadata": {},
   "source": [
    "In the next notebook, we'll see how we can train a neural network to accuractly predict the numbers appearing in the MNIST images."
   ]
  }
 ],
 "metadata": {
  "kernelspec": {
   "display_name": "Python 3",
   "language": "python",
   "name": "python3"
  },
  "language_info": {
   "codemirror_mode": {
    "name": "ipython",
    "version": 3
   },
   "file_extension": ".py",
   "mimetype": "text/x-python",
   "name": "python",
   "nbconvert_exporter": "python",
   "pygments_lexer": "ipython3",
   "version": "3.7.4"
  }
 },
 "nbformat": 4,
 "nbformat_minor": 2
}
